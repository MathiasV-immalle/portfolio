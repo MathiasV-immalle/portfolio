{
 "cells": [
  {
   "cell_type": "markdown",
   "metadata": {
    "deletable": true,
    "editable": true
   },
   "source": [
    "# Waar uitvoeren?\n",
    "- live op de developer console van een webbrowser (F12, Ctrl+shift+i)\n",
    "- in een HTML-bestand tussen `<script>`-tags\n",
    "- online op codepen, jsfiddle, jsbin, ...\n",
    "- in een Jupyter-notebook met de `%%javascript`- of `%%html`-magic\n",
    "- eventueel als losstaand programma met nodejs"
   ]
  },
  {
   "cell_type": "code",
   "execution_count": 17,
   "metadata": {
    "collapsed": false,
    "deletable": true,
    "editable": true
   },
   "outputs": [
    {
     "data": {
      "text/html": [
       "<p>Hallo!</p>\n",
       "<script>\n",
       "    console.log(\"--------------------------------------------------------------\");\n",
       "    var naam = \"Mathias\";\n",
       "    console.log(naam);\n",
       "    console.log(\"--------------------------------------------------------------\");\n",
       "</script>"
      ],
      "text/plain": [
       "<IPython.core.display.HTML object>"
      ]
     },
     "metadata": {},
     "output_type": "display_data"
    }
   ],
   "source": [
    "%%html\n",
    "<p>Hallo!</p>\n",
    "<script>\n",
    "    console.log(\"--------------------------------------------------------------\");\n",
    "    var naam = \"Mathias\";\n",
    "    console.log(naam);\n",
    "    console.log(\"--------------------------------------------------------------\");\n",
    "</script>"
   ]
  },
  {
   "cell_type": "code",
   "execution_count": 11,
   "metadata": {
    "collapsed": false,
    "deletable": true,
    "editable": true
   },
   "outputs": [
    {
     "data": {
      "application/javascript": [
       "var naam = \"Mathias\";\n",
       "console.log(naam);"
      ],
      "text/plain": [
       "<IPython.core.display.Javascript object>"
      ]
     },
     "metadata": {},
     "output_type": "display_data"
    }
   ],
   "source": [
    "%%javascript\n",
    "console.log(\"--------------------------------------------------------------\");\n",
    "var naam = \"Mathias\";\n",
    "console.log(naam);\n",
    "console.log(\"--------------------------------------------------------------\");"
   ]
  },
  {
   "cell_type": "markdown",
   "metadata": {
    "deletable": true,
    "editable": true
   },
   "source": [
    "# Waarom javascript?\n",
    "\n",
    "- meest geïnstalleerde programmeertaal omdat iedereen webbrowsers gebruikt, ook b.v. smartphones\n",
    "- werd oorspronkelijk beschouwd als een *quick and dirty* scripting-taaltje om websites een beetje dynamischer te maken\n",
    "- is ondertussen uitgegroeid tot een serieuze programmeertaal met heel wat libraries en frameworks voor allerlei (meestal web-gerelateerde) toepassingen\n",
    "\n",
    "De Javascript-engine van Chrome is **V8**. Op basis hiervan heeft men https://nodejs.org/en/ gemaakt waarmee je ook javascript-programma's kan draaien **zonder** webbrowser."
   ]
  },
  {
   "cell_type": "markdown",
   "metadata": {
    "deletable": true,
    "editable": true
   },
   "source": [
    "## Declareren van variabelen\n",
    "\n",
    "- altijd met `var`, b.v. `var x = 5`\n",
    "- `=` is de toewijzingsoperator (assignment operator)\n",
    "- elke variabele heeft een type maar die kan niet expliciet meegegeven worden\n",
    "- om het type v.e. variabele op te vragen:\n",
    "    - `typeof(x)`\n",
    "    - een truucje dat soms (b.v. in Chrome) ook werkt: `x.constructor`"
   ]
  },
  {
   "cell_type": "code",
   "execution_count": 19,
   "metadata": {
    "collapsed": false,
    "deletable": true,
    "editable": true
   },
   "outputs": [
    {
     "data": {
      "application/javascript": [
       "var x=5;\n",
       "var y=\"Joske\";\n",
       "console.log(x);\n",
       "console.log(typeof(x));\n",
       "console.log(x.constructor);\n",
       "console.log(y);\n",
       "console.log(typeof(y));\n",
       "console.log(y.constructor);"
      ],
      "text/plain": [
       "<IPython.core.display.Javascript object>"
      ]
     },
     "metadata": {},
     "output_type": "display_data"
    }
   ],
   "source": [
    "%%javascript\n",
    "console.log(\"--------------------------------------------------------------\");\n",
    "var x=5;\n",
    "var y=\"Joske\";\n",
    "console.log(x);\n",
    "console.log(typeof(x));\n",
    "console.log(x.constructor);\n",
    "console.log(y);\n",
    "console.log(typeof(y));\n",
    "console.log(y.constructor);\n",
    "console.log(\"--------------------------------------------------------------\");"
   ]
  },
  {
   "cell_type": "markdown",
   "metadata": {
    "deletable": true,
    "editable": true
   },
   "source": [
    "## Strings\n",
    "\n",
    "In javascript mag je zowel double quotes `\"\"` als single quotes `''` gebruiken. Dit is handig als een string een HTML-element met attributen bevat, b.v. \n",
    "\n",
    "```\n",
    "var someHtml = \"<li class='active'>Item 1</li>\n",
    "```\n",
    "\n",
    "String-objecten hebben enkele properties en methods:\n",
    "\n",
    "- lengte opvragen : `.length`\n",
    "- index van de eerste substring opvragen : `.indexOf`\n",
    "- naar hoofdletters of kleine letters omzetten (handig om *case insensitive* te vergelijken) : `.toUpperCase()`\n",
    "\n",
    "TIP: Gebruik de developer console om b.v. Chrome automatisch te laten aanvullen. Dit kan een snelle manier zijn om properties en methods van objecten te vinden."
   ]
  },
  {
   "cell_type": "code",
   "execution_count": 27,
   "metadata": {
    "collapsed": false,
    "deletable": true,
    "editable": true
   },
   "outputs": [
    {
     "data": {
      "application/javascript": [
       "var naam = \"ikke\";\n",
       "var welkom = \"**Aloha \" + naam + \", wees welkom!**\";\n",
       "var laters = \"**See ya!**\";\n",
       "var dier = \"hond\";\n",
       "console.log(welkom);"
      ],
      "text/plain": [
       "<IPython.core.display.Javascript object>"
      ]
     },
     "metadata": {},
     "output_type": "display_data"
    }
   ],
   "source": [
    "%%javascript\n",
    "console.log(\"--------------------------------------------------------------\");\n",
    "var naam = \"ikke\";\n",
    "var welkom = \"**Aloha \" + naam + \", wees welkom!**\";\n",
    "var laters = \"**See ya!**\";\n",
    "var dier = \"hond\";\n",
    "console.log(welkom);\n",
    "console.log(\"--------------------------------------------------------------\");"
   ]
  },
  {
   "cell_type": "markdown",
   "metadata": {
    "deletable": true,
    "editable": true
   },
   "source": [
    "## Arrays\n",
    "\n",
    "Een variabele kan ook uit een lijst van dingen bestaan: **arrays**.\n",
    "\n",
    "```\n",
    "var namen = [\"Jantje\", \"Joske\", \"Fredje\"];\n",
    "```\n",
    "\n",
    "De elementen worden benaderd met een **index** (beginnende va. 0).\n",
    "\n",
    "```\n",
    "console.log(namen[0] + \" is \" + leeftijden[0] + \" jaar.\");\n",
    "console.log(namen[1] + \" is \" + leeftijden[1] + \" jaar.\");\n",
    "console.log(namen[2] + \" is \" + leeftijden[2] + \" jaar.\");\n",
    "```\n",
    "\n",
    "Je kan de lengte v.e. array opvragen door `.length` aan de array toe te voegen:\n",
    "\n",
    "```\n",
    "console.log(\"Er zijn \" + namen.length + \" namen.\");\n",
    "```\n"
   ]
  },
  {
   "cell_type": "code",
   "execution_count": 33,
   "metadata": {
    "collapsed": false,
    "deletable": true,
    "editable": true
   },
   "outputs": [
    {
     "data": {
      "application/javascript": [
       "var namen = [\"Jantje\", \"Joske\", \"Fredje\"];\n",
       "var leeftijden = [11,14,17];\n",
       "for (var i = 0; i < namen.length; i++){\n",
       "console.log(namen[i] + \" is \" + leeftijden[i] + \" jaar.\");\n",
       "}\n",
       "console.log(\"Er zijn \" + namen.length + \" namen.\");"
      ],
      "text/plain": [
       "<IPython.core.display.Javascript object>"
      ]
     },
     "metadata": {},
     "output_type": "display_data"
    }
   ],
   "source": [
    "%%javascript\n",
    "console.log(\"--------------------------------------------------------------\");\n",
    "var namen = [\"Jantje\", \"Joske\", \"Fredje\"];\n",
    "var leeftijden = [11,14,17];\n",
    "for (var i = 0; i < namen.length; i++){\n",
    "console.log(namen[i] + \" is \" + leeftijden[i] + \" jaar.\");\n",
    "}\n",
    "console.log(\"Er zijn \" + namen.length + \" namen.\");\n",
    "console.log(\"--------------------------------------------------------------\");"
   ]
  },
  {
   "cell_type": "markdown",
   "metadata": {
    "deletable": true,
    "editable": true
   },
   "source": [
    "## Rekenkundige operatoren\n",
    "\n",
    "Deze operatoren gebruiken 2 *operanden*:\n",
    "\n",
    "- `+`\n",
    "- `-`\n",
    "- `*`\n",
    "- `/`\n",
    "- `+=`\n",
    "- `-=`\n",
    "- `%` : modulo (gehele deling)\n",
    "\n",
    "Deze operatoren gebruiken 1 *operand*:\n",
    "\n",
    "- `++`\n",
    "- `--`\n",
    "\n",
    "> Deze laatste 2 hebben 2 varianten:\n",
    ">\n",
    "> - postfix (b.v. `i++`)\n",
    "> - prefix (b.v. `++i`)\n",
    ">\n",
    "> Postfix returnt eerst de oude waarde alvorens te verhogen.\n",
    "> Prefix verhoogt eerst en returnt dan de nieuwe waarde.\n"
   ]
  },
  {
   "cell_type": "code",
   "execution_count": 68,
   "metadata": {
    "collapsed": false,
    "deletable": true,
    "editable": true
   },
   "outputs": [
    {
     "data": {
      "application/javascript": [
       "var x = 1;\n",
       "console.log(x);\n",
       "x += 4;\n",
       "console.log(x);\n",
       "x++;\n",
       "console.log(x);\n",
       "--x;\n",
       "console.log(x);\n",
       "x-=5;\n",
       "console.log(x);\n",
       "console.log(x*3-2+89/8);"
      ],
      "text/plain": [
       "<IPython.core.display.Javascript object>"
      ]
     },
     "metadata": {},
     "output_type": "display_data"
    }
   ],
   "source": [
    "%%javascript\n",
    "console.log(\"--------------------------------------------------------------\");\n",
    "var x = 1;\n",
    "console.log(x);\n",
    "x += 4;\n",
    "console.log(x);\n",
    "x++;\n",
    "console.log(x);\n",
    "--x;\n",
    "console.log(x);\n",
    "x-=5;\n",
    "console.log(x);\n",
    "console.log(x*3-2+89/8);\n",
    "console.log(\"--------------------------------------------------------------\");"
   ]
  },
  {
   "cell_type": "markdown",
   "metadata": {
    "deletable": true,
    "editable": true
   },
   "source": [
    "## logische operatoren (AKA booleaanse rekenkundige operatoren)\n",
    "\n",
    "- `&&` (and)\n",
    "- `||` (or)\n",
    "- `!` (not)"
   ]
  },
  {
   "cell_type": "markdown",
   "metadata": {
    "deletable": true,
    "editable": true
   },
   "source": [
    "## vergelijkingsoperatoren\n",
    "\n",
    "- `>`\n",
    "- `<`\n",
    "- `>=`\n",
    "- `<=`\n",
    "- `==`\n",
    "- `!=`\n",
    "\n",
    "Specifiek voor javascript:\n",
    "\n",
    "- `===` : controleren op waarde en type\n",
    "\n",
    "De `==`-operator zal de string `\"3\"` en het getal `3` als gelijk beschouwen.\n",
    "Bij de `===`-operator moet ook het **type** (string, geheel getal, komma getal, ...) hetzelfde zijn."
   ]
  },
  {
   "cell_type": "code",
   "execution_count": 76,
   "metadata": {
    "collapsed": false,
    "deletable": true,
    "editable": true
   },
   "outputs": [
    {
     "data": {
      "application/javascript": [
       "var warm = false;\n",
       "if (warm == true)\n",
       "{\n",
       "    console.log(\"zet de verwarming uit!\");\n",
       "} else {\n",
       "    console.log(\"zet de verwarming aan!\");\n",
       "}"
      ],
      "text/plain": [
       "<IPython.core.display.Javascript object>"
      ]
     },
     "metadata": {},
     "output_type": "display_data"
    }
   ],
   "source": [
    "%%javascript\n",
    "console.log(\"--------------------------------------------------------------\");\n",
    "var warm = false;\n",
    "if (warm == true)\n",
    "{\n",
    "    console.log(\"zet de verwarming uit!\");\n",
    "} else {\n",
    "    console.log(\"zet de verwarming aan!\");\n",
    "}\n",
    "console.log(\"--------------------------------------------------------------\");"
   ]
  },
  {
   "cell_type": "markdown",
   "metadata": {
    "deletable": true,
    "editable": true
   },
   "source": [
    "## functies\n",
    "\n",
    "Omdat Javascript **geen expliciete types** gebruikt, moeten in een functie-definitie **geen** parameter-types of return-types worden opgegeven.\n",
    "\n",
    "\n",
    "### een functie zonder parameters\n",
    "\n",
    "definitie:\n",
    "\n",
    "```\n",
    "function zegHallo() {\n",
    "    console.log(\"Hallo\");\n",
    "}\n",
    "```\n",
    "\n",
    "aanroep:\n",
    "\n",
    "```\n",
    "zegHallo();\n",
    "zegHallo();\n",
    "zegHallo();\n",
    "```\n",
    "\n",
    "### een functie met één parameter\n",
    "\n",
    "definitie:\n",
    "\n",
    "```\n",
    "function zeg(iets) {\n",
    "    console.log(\"Je zegt: \" + iets);\n",
    "}\n",
    "```\n",
    "\n",
    "aanroep:\n",
    "\n",
    "```\n",
    "zeg(\"Het regent vandaag.\");\n",
    "zeg(\"Het is bijna middag....\");\n",
    "```\n",
    "\n",
    "### een functie met meerdere parameters\n",
    "\n",
    "definitie:\n",
    "\n",
    "```\n",
    "function herhaal(iets, aantal) {\n",
    "\tfor(var i = 0; i < aantal; i++) {\n",
    "\t \tzeg(iets);\n",
    "\t}\n",
    "}\n",
    "```\n",
    "\n",
    "aanroep:\n",
    "\n",
    "```\n",
    "herhaal(\"Hallo!\", 10);\n",
    "```\n",
    "\n",
    "### een functie met een return-waarde\n",
    "\n",
    "definitie:\n",
    "\n",
    "```\n",
    "function altijdVijf() {\n",
    "    return 5;\n",
    "}\n",
    "```\n",
    "\n",
    "aanroep:\n",
    "\n",
    "```\n",
    "var x = altijdVijf();\n",
    "```\n"
   ]
  },
  {
   "cell_type": "code",
   "execution_count": 82,
   "metadata": {
    "collapsed": false,
    "deletable": true,
    "editable": true
   },
   "outputs": [
    {
     "data": {
      "application/javascript": [
       "function zeg(iets){\n",
       "    console.log(\"ik zeg: \" + iets);\n",
       "}\n",
       "zeg(\"Hallo!\");\n",
       "zeg();\n",
       "zeg(\"Hallo!\", \"Doeiiiii\");"
      ],
      "text/plain": [
       "<IPython.core.display.Javascript object>"
      ]
     },
     "metadata": {},
     "output_type": "display_data"
    }
   ],
   "source": [
    "%%javascript\n",
    "console.log(\"--------------------------------------------------------------\");\n",
    "function zeg(iets){\n",
    "    console.log(\"ik zeg: \" + iets);\n",
    "}\n",
    "zeg(\"Hallo!\");\n",
    "zeg();\n",
    "zeg(\"Hallo!\", \"Doeiiiii\");\n",
    "console.log(\"--------------------------------------------------------------\");"
   ]
  },
  {
   "cell_type": "markdown",
   "metadata": {
    "deletable": true,
    "editable": true
   },
   "source": [
    "## Javascript in de browser 1\n",
    "\n",
    "- `alert()` toont een dialoogvenster\n",
    "- `confirm()` toont een OK/Cancel keuze-dialoogvenster\n",
    "- `prompt()` toont een dialoogvenster met een invoervak\n",
    "\n",
    "Wat is de return-waarde van `confirm()` als op OK gedrukt wordt?\n",
    "\n",
    "Wat is de return-waarde van `confirm()` als op Cancel gedrukt wordt?\n",
    "\n",
    "Wat is de return-waarde van `prompt()` als op OK gedrukt wordt?\n",
    "\n",
    "Wat is de return-waarde van `prompt()` als op OK cancel gedrukt wordt?\n"
   ]
  },
  {
   "cell_type": "code",
   "execution_count": 1,
   "metadata": {
    "collapsed": false,
    "deletable": true,
    "editable": true
   },
   "outputs": [
    {
     "data": {
      "application/javascript": [
       "alert(\"Hello!\");\n",
       "var confirmReturn = confirm(\"Wil je verder gaan?\");\n",
       "console.log(confirmReturn);"
      ],
      "text/plain": [
       "<IPython.core.display.Javascript object>"
      ]
     },
     "metadata": {},
     "output_type": "display_data"
    }
   ],
   "source": [
    "%%javascript\n",
    "console.log(\"--------------------------------------------------------------\");\n",
    "/*\n",
    "alert(\"Hello!\");\n",
    "var confirmReturn = confirm(\"Wil je verder gaan?\");\n",
    "console.log(confirmReturn);\n",
    "*/\n",
    "console.log(\"--------------------------------------------------------------\");"
   ]
  },
  {
   "cell_type": "markdown",
   "metadata": {
    "deletable": true,
    "editable": true
   },
   "source": [
    "## NIEUW : Variabelen die een functie bevatten\n",
    "\n",
    "We wijzen een functie (met de naam `naam`) toe aan de variabele `f` en roepen `f` daarna 3 keer aan.\n",
    "\n",
    "```\n",
    "var f = function naam() {\n",
    "\tconsole.log(\"hallo\");\n",
    "}\n",
    "\n",
    "f();\n",
    "f();\n",
    "f();\n",
    "```\n",
    "\n",
    "Als we een functie in een variabele steken, is het eigenlijk niet nodig om er nog een naam aan te geven, aangezien we de functie nu toch via de variabele kunnen benaderen:\n",
    "\n",
    "```\n",
    "var f = function () {\n",
    "\tconsole.log(\"hallo\");\n",
    "}\n",
    "\n",
    "f();\n",
    "f();\n",
    "```\n"
   ]
  },
  {
   "cell_type": "code",
   "execution_count": 112,
   "metadata": {
    "collapsed": false,
    "deletable": true,
    "editable": true
   },
   "outputs": [
    {
     "data": {
      "application/javascript": [
       "var f = function naam() {\n",
       "    console.log(\"hallo\");\n",
       "}\n",
       "f();"
      ],
      "text/plain": [
       "<IPython.core.display.Javascript object>"
      ]
     },
     "metadata": {},
     "output_type": "display_data"
    }
   ],
   "source": [
    "%%javascript\n",
    "console.log(\"--------------------------------------------------------------\");\n",
    "var f = function naam() {\n",
    "    console.log(\"hallo\");\n",
    "}\n",
    "f();\n",
    "console.log(\"--------------------------------------------------------------\");"
   ]
  },
  {
   "cell_type": "code",
   "execution_count": 111,
   "metadata": {
    "collapsed": false,
    "deletable": true,
    "editable": true
   },
   "outputs": [
    {
     "data": {
      "application/javascript": [
       "var f = function () {\n",
       "    console.log(\"hallo\");\n",
       "}\n",
       "f();"
      ],
      "text/plain": [
       "<IPython.core.display.Javascript object>"
      ]
     },
     "metadata": {},
     "output_type": "display_data"
    }
   ],
   "source": [
    "%%javascript\n",
    "console.log(\"--------------------------------------------------------------\");\n",
    "var f = function () {\n",
    "    console.log(\"hallo\");\n",
    "}\n",
    "f();\n",
    "console.log(\"--------------------------------------------------------------\");"
   ]
  },
  {
   "cell_type": "markdown",
   "metadata": {
    "deletable": true,
    "editable": true
   },
   "source": [
    "## Functies als parameter v.e. andere functie\n",
    "\n",
    "We kunnen steeds variabelen als parameters doorgeven aan functies.\n",
    "Aangezien variabelen functies kunnen bevatten, kunnen we dus ook **een functie als parameter** doorgeven.\n",
    "\n",
    "```\n",
    "function test(ft) {\n",
    "    console.log(\"We roepen de functie 3 keer aan...\");\n",
    "    ft();\n",
    "    ft();\n",
    "    ft();\n",
    "}\n",
    "\n",
    "var f = function naam() {\n",
    "\tconsole.log(\"hallo\");\n",
    "}\n",
    "\n",
    "test(f);\n",
    "```\n",
    "\n",
    "Ook functies die op de gewone manier gedefinieerd zijn, kunnen we als parameter doorgeven:\n",
    "\n",
    "```\n",
    "function zegHallo() {\n",
    "    console.log(\"hallo!!!\");\n",
    "}\n",
    "\n",
    "function roep3KeerAan(ft) {\n",
    "\tft();\n",
    "\tft();\n",
    "\tft();\n",
    "}\n",
    "\n",
    "roep3KeerAan(zegHallo);\n",
    "```\n"
   ]
  },
  {
   "cell_type": "code",
   "execution_count": 102,
   "metadata": {
    "collapsed": false,
    "deletable": true,
    "editable": true
   },
   "outputs": [
    {
     "data": {
      "application/javascript": [
       "function test(ft) {\n",
       "    console.log(\"We roepen de functie 3 keer aan...\");\n",
       "    ft();\n",
       "    ft();\n",
       "    ft();\n",
       "}\n",
       "\n",
       "var f = function naam() {\n",
       "    console.log(\"hallo\");\n",
       "}\n",
       "\n",
       "test(f);"
      ],
      "text/plain": [
       "<IPython.core.display.Javascript object>"
      ]
     },
     "metadata": {},
     "output_type": "display_data"
    }
   ],
   "source": [
    "%%javascript\n",
    "console.log(\"--------------------------------------------------------------\");\n",
    "function test(ft) {\n",
    "    console.log(\"We roepen de functie 3 keer aan...\");\n",
    "    ft();\n",
    "    ft();\n",
    "    ft();\n",
    "}\n",
    "\n",
    "var f = function naam() {\n",
    "    console.log(\"hallo\");\n",
    "}\n",
    "\n",
    "test(f);\n",
    "console.log(\"--------------------------------------------------------------\");"
   ]
  },
  {
   "cell_type": "markdown",
   "metadata": {
    "deletable": true,
    "editable": true
   },
   "source": [
    "## Experimenteer en formuleer een conclusie\n",
    "\n",
    "    function zegHallo() {\n",
    "      console.log(\"Hallo!\");\n",
    "    }\n",
    "\n",
    "    var sayHi = zegHallo;\n",
    "\n",
    "\n",
    "**Experiment**:\n",
    "\n",
    "- voer zowel `zegHallo()` als `sayHi()` uit\n",
    "- verander `zegHallo` zodat `\"Hey!\"` wordt afgedrukt\n",
    "- is `sayHi` nu ook veranderd?\n",
    "- Formuleer een conclusie: Wat doet de regel `var sayHi = zegHallo;`"
   ]
  },
  {
   "cell_type": "code",
   "execution_count": 130,
   "metadata": {
    "collapsed": false,
    "deletable": true,
    "editable": true
   },
   "outputs": [
    {
     "data": {
      "application/javascript": [
       "console.log(\"--------------------------------------------------------------\");\n",
       "// 1\n",
       "function zegHallo() {\n",
       "  console.log(\"Hallo!\");\n",
       "}\n",
       "\n",
       "var sayHi = zegHallo;\n",
       "\n",
       "zegHallo();\n",
       "sayHi();\n",
       "console.log(\"--------------------------------------------------------------\");"
      ],
      "text/plain": [
       "<IPython.core.display.Javascript object>"
      ]
     },
     "metadata": {},
     "output_type": "display_data"
    }
   ],
   "source": [
    "%%javascript\n",
    "console.log(\"--------------------------------------------------------------\");\n",
    "// 1\n",
    "function zegHallo() {\n",
    "  console.log(\"Hallo!\");\n",
    "}\n",
    "\n",
    "var sayHi = zegHallo;\n",
    "\n",
    "zegHallo();\n",
    "sayHi();\n",
    "console.log(\"--------------------------------------------------------------\");"
   ]
  },
  {
   "cell_type": "code",
   "execution_count": 129,
   "metadata": {
    "collapsed": false,
    "deletable": true,
    "editable": true
   },
   "outputs": [
    {
     "data": {
      "application/javascript": [
       "console.log(\"--------------------------------------------------------------\");\n",
       "// 2\n",
       "console.log(\"origineel:\");\n",
       "function zegHallo() {\n",
       "  console.log(\"Hallo!\");\n",
       "}\n",
       "\n",
       "var sayHi = zegHallo;\n",
       "\n",
       "zegHallo();\n",
       "sayHi();\n",
       "\n",
       "console.log(\"aangepast:\");\n",
       "\n",
       "var zegHallo = function() {\n",
       "  console.log(\"Hey!\");\n",
       "}\n",
       "\n",
       "zegHallo();\n",
       "sayHi();\n",
       "console.log(\"--------------------------------------------------------------\");"
      ],
      "text/plain": [
       "<IPython.core.display.Javascript object>"
      ]
     },
     "metadata": {},
     "output_type": "display_data"
    }
   ],
   "source": [
    "%%javascript\n",
    "console.log(\"--------------------------------------------------------------\");\n",
    "// 2\n",
    "console.log(\"origineel:\");\n",
    "function zegHallo() {\n",
    "  console.log(\"Hallo!\");\n",
    "}\n",
    "\n",
    "var sayHi = zegHallo;\n",
    "\n",
    "zegHallo();\n",
    "sayHi();\n",
    "\n",
    "console.log(\"aangepast:\");\n",
    "\n",
    "var zegHallo = function() {\n",
    "  console.log(\"Hey!\");\n",
    "}\n",
    "\n",
    "zegHallo();\n",
    "sayHi();\n",
    "console.log(\"--------------------------------------------------------------\");"
   ]
  },
  {
   "cell_type": "markdown",
   "metadata": {
    "deletable": true,
    "editable": true
   },
   "source": [
    "// 3\n",
    "Nee, sayHi is niet mee veranderd."
   ]
  },
  {
   "cell_type": "markdown",
   "metadata": {
    "deletable": true,
    "editable": true
   },
   "source": [
    "## Anonieme functies\n",
    "\n",
    "Anonieme functies hebben **geen naam**. Ze worden ter plekke *gebruikt*.\n",
    "\n",
    "```\n",
    "test(function () {\n",
    "    console.log(\"ik ben een anonieme functie\")\n",
    "});\n",
    "\n",
    "test(function () {\n",
    "    console.log(\"Ik ook anoniem!\");\n",
    "});\n",
    "\n",
    "var af = function() {\n",
    "\tconsole.log(\"Ik ben ook anoniem maar wel toegekend aan een variabele.\");\n",
    "}\n",
    "```\n",
    "Vraagjes:\n",
    "- Implementeer de functie `test` zodanig dat de meegegeven 10 keer wordt uitgevoerd en dat er telkens \"Uitvoering x:\" boven elke uitvoering staat\n",
    "- Implementeer de functie `test` daarna (in een nieuwe Jupyter-cel) zodanig dat met `typeof` gecontroleerd wordt of het echt een functie is. Zoniet moet een foutmelding verschijnen. B.v. `test(3)` of `test(\"blabla\")` moeten een foutmelding geven en mogen het programma niet laten crashen!\n"
   ]
  },
  {
   "cell_type": "code",
   "execution_count": 10,
   "metadata": {
    "collapsed": false,
    "deletable": true,
    "editable": true
   },
   "outputs": [
    {
     "data": {
      "application/javascript": [
       "// Vraag 1\n",
       "console.log(\"--------------------------------------------------------------\");\n",
       "function test(ft) {\n",
       "    console.log(\"We roepen de functie 3 keer aan...\");\n",
       "    ft();\n",
       "    ft();\n",
       "    ft();\n",
       "}\n",
       "test(function () {\n",
       "    console.log(\"Dit is een anonieme functie.\")\n",
       "});\n",
       "console.log(\"--------------------------------------------------------------\");"
      ],
      "text/plain": [
       "<IPython.core.display.Javascript object>"
      ]
     },
     "metadata": {},
     "output_type": "display_data"
    }
   ],
   "source": [
    "%%javascript\n",
    "// oef soortgelijk aan de 3 voorbeelden\n",
    "console.log(\"--------------------------------------------------------------\");\n",
    "function test(ft) {\n",
    "    console.log(\"We roepen de functie 3 keer aan...\");\n",
    "    ft();\n",
    "    ft();\n",
    "    ft();\n",
    "}\n",
    "test(function () {\n",
    "    console.log(\"Dit is een anonieme functie.\")\n",
    "});\n",
    "console.log(\"--------------------------------------------------------------\");"
   ]
  },
  {
   "cell_type": "code",
   "execution_count": 9,
   "metadata": {
    "collapsed": false,
    "deletable": true,
    "editable": true
   },
   "outputs": [
    {
     "data": {
      "application/javascript": [
       "test(function () {\n",
       "});\n",
       "\n",
       "function test(ft) {\n",
       "    for(var x=0; x<=10; x++)\n",
       "    {\n",
       "        console.log(\"Uitvoering: \" + x);\n",
       "        ft();\n",
       "    }\n",
       "}"
      ],
      "text/plain": [
       "<IPython.core.display.Javascript object>"
      ]
     },
     "metadata": {},
     "output_type": "display_data"
    }
   ],
   "source": [
    "%%javascript\n",
    "// opl Vraag 1\n",
    "console.log(\"--------------------------------------------------------------\");\n",
    "test(function () {\n",
    "});\n",
    "\n",
    "function test(ft) {\n",
    "    for(var x=0; x<=10; x++)\n",
    "    {\n",
    "        console.log(\"Uitvoering: \" + x);\n",
    "        ft();\n",
    "    }\n",
    "}\n",
    "console.log(\"--------------------------------------------------------------\");"
   ]
  },
  {
   "cell_type": "code",
   "execution_count": 8,
   "metadata": {
    "collapsed": false,
    "deletable": true,
    "editable": true
   },
   "outputs": [
    {
     "data": {
      "application/javascript": [
       "test(function () {\n",
       "    console.log(\"ik ben een anonieme functie\")\n",
       "});\n",
       "\n",
       "function test(ft) {\n",
       "    for(var i=0; i<10; i++) {\n",
       "        console.log(\"Uitvoering \" + (i+1));\n",
       "        ft();\n",
       "    }\n",
       "}"
      ],
      "text/plain": [
       "<IPython.core.display.Javascript object>"
      ]
     },
     "metadata": {},
     "output_type": "display_data"
    }
   ],
   "source": [
    "%%javascript\n",
    "console.log(\"--------------------------------------------------------------\");\n",
    "// opl Vraag 1: leerkracht\n",
    "test(function () {\n",
    "    console.log(\"ik ben een anonieme functie\")\n",
    "});\n",
    "\n",
    "function test(ft) {\n",
    "    for(var i=0; i<10; i++) {\n",
    "        console.log(\"Uitvoering \" + (i+1));\n",
    "        ft();\n",
    "    }\n",
    "}\n",
    "console.log(\"--------------------------------------------------------------\");"
   ]
  },
  {
   "cell_type": "code",
   "execution_count": 13,
   "metadata": {
    "collapsed": false,
    "deletable": true,
    "editable": true
   },
   "outputs": [
    {
     "data": {
      "application/javascript": [
       "console.log(\"--------------------------------------------------------------\");\n",
       "test(function () {\n",
       "    console.log(\"ik ben een anonieme functie\")\n",
       "});\n",
       "test(3);\n",
       "test(\"blabla\");\n",
       "\n",
       "function test(ft) {\n",
       "    if(typeof(ft) == \"function\") {\n",
       "            for(var i=0; i<10; i++) {\n",
       "                console.log(\"Uitvoering \" + (i+1));\n",
       "                ft();\n",
       "            }\n",
       "    } else {\n",
       "        console.log(\"ft is geen functie!\");\n",
       "        alert(\"ft is geen functie!\")\n",
       "    }\n",
       "}\n",
       "console.log(\"--------------------------------------------------------------\");"
      ],
      "text/plain": [
       "<IPython.core.display.Javascript object>"
      ]
     },
     "metadata": {},
     "output_type": "display_data"
    }
   ],
   "source": [
    "%%javascript\n",
    "console.log(\"--------------------------------------------------------------\");\n",
    "test(function () {\n",
    "    console.log(\"ik ben een anonieme functie\")\n",
    "});\n",
    "test(3);\n",
    "test(\"blabla\");\n",
    "\n",
    "function test(ft) {\n",
    "    if(typeof(ft) == \"function\") {\n",
    "            for(var i=0; i<10; i++) {\n",
    "                console.log(\"Uitvoering \" + (i+1));\n",
    "                ft();\n",
    "            }\n",
    "    } else {\n",
    "        console.log(\"ft is geen functie!\");\n",
    "        alert(\"ft is geen functie!\")\n",
    "    }\n",
    "}\n",
    "console.log(\"--------------------------------------------------------------\");"
   ]
  },
  {
   "cell_type": "markdown",
   "metadata": {
    "deletable": true,
    "editable": true
   },
   "source": [
    "## Timers met SetTimeout\n",
    "\n",
    "De functie `f` zal binnen 1 seconde worden uitgevoerd:\n",
    "\n",
    "```\n",
    "setTimeout(f, 1000);\n",
    "```\n",
    "\n",
    "`f` kan ook een anonieme functie zijn, zodat je dan de\n",
    "typische javascript-syntax krijgt:\n",
    "\n",
    "```\n",
    "setTimeout(function() {\n",
    "\tconsole.log(\"Hallo\");\n",
    "}, 1000);\n",
    "```\n",
    "\n",
    "Let goed op de indentatie en plaatsing van accolades en haakjes. Hanteer een consistente stijl!"
   ]
  },
  {
   "cell_type": "code",
   "execution_count": 16,
   "metadata": {
    "collapsed": false,
    "deletable": true,
    "editable": true
   },
   "outputs": [
    {
     "data": {
      "application/javascript": [
       "console.log(\"--------------------------------------------------------------\");\n",
       "setTimeout(function() {\n",
       "    console.log(\"Hallo\");\n",
       "        console.log(\"--------------------------------------------------------------\");\n",
       "}, 1000);"
      ],
      "text/plain": [
       "<IPython.core.display.Javascript object>"
      ]
     },
     "metadata": {},
     "output_type": "display_data"
    }
   ],
   "source": [
    "%%javascript\n",
    "console.log(\"--------------------------------------------------------------\");\n",
    "setTimeout(function() {\n",
    "    console.log(\"Hallo\");\n",
    "        console.log(\"--------------------------------------------------------------\");\n",
    "}, 1000);"
   ]
  },
  {
   "cell_type": "code",
   "execution_count": 62,
   "metadata": {
    "collapsed": false,
    "deletable": true,
    "editable": true
   },
   "outputs": [
    {
     "data": {
      "text/html": [
       "<div id=\"mijnDiv\"></div>\n",
       "<script>\n",
       "var mijnDiv = document.getElementById(\"mijnDiv\");\n",
       "mijnDiv.innerHTML = \"blablabla\";\n",
       "/*var tmr1 = setInterval(function() {\n",
       "  mijnDiv.innerHTML += \"a\";\n",
       "}, 1000);*/\n",
       "</script>"
      ],
      "text/plain": [
       "<IPython.core.display.HTML object>"
      ]
     },
     "metadata": {},
     "output_type": "display_data"
    }
   ],
   "source": [
    "%%html\n",
    "<div id=\"mijnDiv\"></div>\n",
    "<script>\n",
    "var mijnDiv = document.getElementById(\"mijnDiv\");\n",
    "mijnDiv.innerHTML = \"blablabla\";\n",
    "/*var tmr1 = setInterval(function() {\n",
    "  mijnDiv.innerHTML += \"a\";\n",
    "}, 1000);*/\n",
    "</script>"
   ]
  },
  {
   "cell_type": "markdown",
   "metadata": {
    "deletable": true,
    "editable": true
   },
   "source": [
    "## Timers met SetInterval\n",
    "\n",
    "Dit start een herhalende timer:\n",
    "\n",
    "```\n",
    "var timer = setInterval(f, 1000);\n",
    "```\n",
    "\n",
    "Dit stopt de timer:\n",
    "\n",
    "```\n",
    "clearInterval(timer);\n",
    "```\n",
    "\n",
    "`setInterval` returnt een *timer-object*.\n",
    "Om de timer te stoppen, moet je dit timer-object doorgeven aan `clearInterval`.\n",
    "\n",
    "Als je de return-waarde van `setInterval` dus niet opvangt,\n",
    "kan je de timer niet stoppen!\n"
   ]
  },
  {
   "cell_type": "code",
   "execution_count": 40,
   "metadata": {
    "collapsed": false,
    "deletable": true,
    "editable": true
   },
   "outputs": [
    {
     "data": {
      "application/javascript": [
       "//console.log(\"--------------------------------------------------------------\");\n",
       "var timer = setInterval(function() {\n",
       "    console.log(\"Hallo\");\n",
       "        console.log(\"--------------------------------------------------------------\");\n",
       "}, 1000);\n",
       "clearInterval(timer);\n",
       "//timer;"
      ],
      "text/plain": [
       "<IPython.core.display.Javascript object>"
      ]
     },
     "metadata": {},
     "output_type": "display_data"
    }
   ],
   "source": [
    "%%javascript\n",
    "//console.log(\"--------------------------------------------------------------\");\n",
    "var timer = setInterval(function() {\n",
    "    console.log(\"Hallo\");\n",
    "        console.log(\"--------------------------------------------------------------\");\n",
    "}, 1000);\n",
    "clearInterval(timer);\n",
    "//timer;"
   ]
  }
 ],
 "metadata": {
  "kernelspec": {
   "display_name": "Python 3",
   "language": "python",
   "name": "python3"
  },
  "language_info": {
   "codemirror_mode": {
    "name": "ipython",
    "version": 3
   },
   "file_extension": ".py",
   "mimetype": "text/x-python",
   "name": "python",
   "nbconvert_exporter": "python",
   "pygments_lexer": "ipython3",
   "version": "3.6.1"
  }
 },
 "nbformat": 4,
 "nbformat_minor": 2
}
